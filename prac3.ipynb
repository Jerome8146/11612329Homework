{
 "cells": [
  {
   "cell_type": "markdown",
   "metadata": {},
   "source": [
    "# Introduction to Artificial Intelligence for Non Computing"
   ]
  },
  {
   "cell_type": "markdown",
   "metadata": {},
   "source": [
    "## Practical 3 (weeks 5 - 6)"
   ]
  },
  {
   "cell_type": "markdown",
   "metadata": {},
   "source": [
    "The following links provide additional information about data analysis , machine learning and Numpy"
   ]
  },
  {
   "cell_type": "markdown",
   "metadata": {},
   "source": [
    "Python data analysis: https://www.imooc.com/learn/843\n",
    "machine learning: https://www.imooc.com/learn/717\n",
    "Numpy :https://www.imooc.com/learn/943"
   ]
  },
  {
   "cell_type": "markdown",
   "metadata": {},
   "source": [
    "#### Theory Questions"
   ]
  },
  {
   "cell_type": "markdown",
   "metadata": {},
   "source": [
    "1\\.Which of the following are true and which are false? Give brief explanations.\n",
    "- a. In a fully observable, turn-taking, zero-sum game between two perfectly rational players,it does not help the first player to know what strategy the second player is using—that is, what move the second player will make, given the first player's move.\n",
    "- b. In a partially observable, turn-taking, zero-sum game between two perfectly rational players, it does not help the first player to know what move the second player will make, given the first player's move.\n",
    "- c. A perfectly rational backgammon agent never loses.\n",
    "\n",
    "See textbook Chapter6 24.6"
   ]
  },
  {
   "cell_type": "markdown",
   "metadata": {},
   "source": [
    "a. True. The second player will play optimally, and so is perfectly predictable up to ties. Knowing which of two equally good moves the opponent will not change the value of the game to the first player.\n",
    "b. False. In a partially observable game, knowing the second play's move tells the first player additional information about the game state that would otherwise be available only to the second player.\n",
    "c. False. Backgammon is a game of chance, and the opponent may consistently roll much better dice. The correct statement is that the excepted winnings are optimal.\n",
    "***"
   ]
  },
  {
   "cell_type": "markdown",
   "metadata": {},
   "source": [
    "2\\.Define in your own words the terms constraint, backtracking search, arc consistency,backjumping, min-conflicts, and cycle cutset.\n",
    "\n",
    "See textbook Chapter6 6.16"
   ]
  },
  {
   "cell_type": "markdown",
   "metadata": {},
   "source": [
    "Constrain: A demarcation of geometrical characteristics between two or more entities or solid modeling bodies.\n",
    "\n",
    "Backtracking search: A general algorithm for finding all (or some) solutions to some computational problems, notably constraint satisfaction problems, that incrementally builds candidates to the solutions, and abandons a candidate (\"backtracks\") as soon as it determines that the candidate cannot possibly be completed to a valid solution.\n",
    "\n",
    "Arc comsistency: A variable of a constraint satisfaction problem is arc-consistent with another one if each of its admissible values are consistent with some admissible value of the second variable.\n",
    "\n",
    "Backjumping: A technique that reduces search space, therefore increasing efficiency.\n",
    "\n",
    "Min-conflicts: A search algorithm or heuristic method to solve constraint satisfaction problems (CSP).\n",
    "\n",
    "Cycle cutset: A set of vertices whose removal leaves a graph without cycles. In other words, each feedback vertex set contains at least one vertex of any cycle in the graph.\n",
    "***"
   ]
  },
  {
   "cell_type": "markdown",
   "metadata": {},
   "source": [
    "3\\.Explain why it is a good heuristic to choose the variable that is most constrained but the value that is least constraining in a CSP search.\n",
    "\n",
    "See textbook Chapter6 6.9"
   ]
  },
  {
   "cell_type": "markdown",
   "metadata": {},
   "source": [
    "The most constrained variable makes sense because it chooses a variable that can cause failure (all other conditions are the same) and it is more efficient to fail as early as possible (thus pruning most of the search space). The least limit value heuristic is meaningful because it allows the greatest opportunity for future allocations to avoid conflicts.\n",
    "***"
   ]
  },
  {
   "cell_type": "markdown",
   "metadata": {},
   "source": [
    "4\\.Consider the following procedure for choosing moves in games with chance nodes: \n",
    "- 1、Generate some dice-roll sequences (say, 50) down to a suitable depth (say, 8).\n",
    "- 2、With known dice rolls, the game tree becomes deterministic. For each dice-roll sequence,solve the resulting deterministic game tree using alpha-beta.\n",
    "- 3、Use the results to estimate the value of each move and to choose the best.Will this procedure work well? Why (or why not)?\n",
    "\n",
    "See textbook Chapter5 5.19"
   ]
  },
  {
   "cell_type": "markdown",
   "metadata": {},
   "source": [
    "It won't work. Mathematically, the procedure amounts to assuming that averaging commutes with min and max, which it does not. Intuitively, the choices made by each player in the deterministic trees are based on full knowledge of future dice rolls, and bear no necessary relationship to the moves made without such knowledge.\n",
    "\n",
    "***"
   ]
  },
  {
   "cell_type": "markdown",
   "metadata": {},
   "source": [
    "5\\. Now,please consider this game:  there are three plates A, B and C, each plate has three bills. A puts 1, 20, 50; B puts 5, 10, 100; C puts 1, 5, 20. All units are \"Yuan\". There are two persons A and B, and two of them can check out three plates and banknotes .（ A is ourself, The other is B）\n",
    "The game is divided into three steps: \n",
    "- 1、A select a plate from three plate.\n",
    "- 2、B take out two banknotes from A selected plate,and give the  banknotes to A.  \n",
    "- 3、A take one of the two banknotes, and take it away.among,A want to get the max banknotes, B want to let A to get the min.\n",
    "\n",
    "Try to understand the minimax algorithm，you can click the link:https://blog.csdn.net/tangchenyi/article/details/22920031"
   ]
  },
  {
   "cell_type": "markdown",
   "metadata": {},
   "source": [
    "1.A->A plate,then B->1 and 20,A->20.\n",
    "2.A->B plate,then B->5 and 10,A->10.\n",
    "3.A->C plate,then b->1 and 5,A->5.\n",
    "\n",
    "***"
   ]
  },
  {
   "cell_type": "markdown",
   "metadata": {},
   "source": [
    "### Programming Excercises"
   ]
  },
  {
   "cell_type": "markdown",
   "metadata": {},
   "source": [
    "1\\. Guess number(Single number): please generate a randomly number  with the function (random), then ask someone to guess the number,I think we should give the corresponding hint, otherwise it will be very difficult to guess the number.the game will be over untill you get the right number."
   ]
  },
  {
   "cell_type": "code",
   "execution_count": 7,
   "metadata": {},
   "outputs": [
    {
     "name": "stdout",
     "output_type": "stream",
     "text": [
      "Please input a number:50\n",
      "Your answer is too big\n",
      "Please input a number:30\n",
      "Your answer is too big\n",
      "Please input a number:20\n",
      "Your answer is too big\n",
      "Please input a number:10\n",
      "Your answer is too big\n",
      "Please input a number:4\n",
      "Your answer is too big\n",
      "Please input a number:1\n",
      "Your answer is too small\n",
      "Please input a number:2\n",
      "The answer is correct\n"
     ]
    }
   ],
   "source": [
    "import random\n",
    "\n",
    "GNumber= random.randint(0,100)\n",
    "while True:\n",
    "    Number = int(input(\"Please input a number:\"))\n",
    "\n",
    "    if GNumber == Number:\n",
    "        print(\"The answer is correct\")\n",
    "        break\n",
    "    elif GNumber > Number:\n",
    "        print(\"Your answer is too small\")\n",
    "    else:\n",
    "        print(\"Your answer is too big\")"
   ]
  },
  {
   "cell_type": "markdown",
   "metadata": {},
   "source": [
    "2\\.if you had understand the guess single number games,Congratulates,next is the guess three number games,Maybe you can do it well.But this is a different way of thinking. \n",
    "first : we need generate three numbers,there are most ten times chances give  you to guess the number,of course,we also give you some cue.\n",
    "\n",
    "- 'When I say:-->It means:\n",
    "- 'error--> The 3 numbers are not in the mystical numbers.'\n",
    "- 'Only the number is correct --> the number is right , but the position is not right.'\n",
    "- 'Absolutely right--> numbers is right and the position also right.'\n",
    "\n",
    "Maybe it's better for you to understand the rule well through see the picture.\n",
    "<div style=\"float:left;\" ><img src=\"img/p1.png\" width=\"400\" height=\"300\" >"
   ]
  },
  {
   "cell_type": "code",
   "execution_count": null,
   "metadata": {},
   "outputs": [],
   "source": [
    "import random\n",
    "\n",
    "print(\"there are 3 number, please Guess what it is.\\nThe clue I gave is:\\nWhen I say:\\tIt means:\")\n",
    "print(\"error\\tThe 3 numbers are not in the mystical numbers.\\nOnly the number is correct\\tThe number is right, but the position is not right.\")\n",
    "print(\"Absolutely right\\tThe number is right and the position is also right.\\nThere are 3 numbers, You have 10 chance to guess it.\")\n",
    "\n",
    "N1 = str(random.randint(100,1000))\n",
    "G1 = input(\"enter your guess number：\")\n",
    "\n",
    "N = list(N1)\n",
    "G = list(G1)\n",
    "\n",
    "Result = []\n",
    "\n",
    "for i in range(0,10):\n",
    "    \n",
    "    if N[0] == G[0]:\n",
    "        Result.append('Absolutely right')\n",
    "    elif N[1] == G[0] or N[2] == G[0]:\n",
    "        Result.append('Only the number is correct')\n",
    "    else:\n",
    "        .append('error')\n",
    "        \n",
    "    if N[1] == G[1]:\n",
    "        Result.append('Absolutely right')\n",
    "    elif N[0] == G[1] or N[2] == G[1]:\n",
    "        Result.append('Only the number is correct')\n",
    "    else:\n",
    "        Result.append('error')\n",
    "        \n",
    "        \n",
    "    if N[2] == G[2]:\n",
    "        Result.append('Absolutely right')\n",
    "    elif N[0] == G[2] or N[1] == G[2]:\n",
    "        Result.append('Only the number is correct')\n",
    "    else:\n",
    "        Result.append('error')\n",
    "    \n",
    "    if N[0] == G[0] and N[1] == G[1] and N[2] == G[2]:\n",
    "        Result = []\n",
    "        Result.append(\"Congratulations!\")\n",
    "        print(Result)\n",
    "        break\n",
    "    print(Result)\n",
    "    Result = []\n",
    "    guess = input(\"enter your guess number：\")\n"
   ]
  },
  {
   "cell_type": "code",
   "execution_count": null,
   "metadata": {},
   "outputs": [],
   "source": []
  },
  {
   "cell_type": "markdown",
   "metadata": {},
   "source": [
    "3\\.please try using Python's Tkinter to make a visual interface（GUI）.if you don't know anything.Maybe you can refer to the below interface.and implement it by code.\n",
    "\n",
    "<div style=\"float:left;\" ><img src=\"img/p2.png\" width=\"200\" height=\"200\" >"
   ]
  },
  {
   "cell_type": "code",
   "execution_count": 4,
   "metadata": {},
   "outputs": [],
   "source": [
    "from tkinter import *\n",
    "\n",
    "\n",
    "root = Tk()\n",
    "\n",
    "root.title(\"tk\")\n",
    "root.minsize(300, 240)\n",
    "\n",
    "list1 = ['C', 'python', 'php', 'html', 'SQL', 'java']\n",
    "list2 = ['CSS', 'jQuery', 'Bootstrap']\n",
    "\n",
    "list11 = Listbox(root)\n",
    "list22 = Listbox(root)\n",
    "\n",
    "for item in list1:\n",
    "    list11.insert(0, item)\n",
    "\n",
    "for item in list2:\n",
    "    list22.insert(0, item)\n",
    "\n",
    "list11.pack()\n",
    "list22.pack()\n",
    "root.mainloop()\n"
   ]
  },
  {
   "cell_type": "markdown",
   "metadata": {},
   "source": [
    "4\\.Through the initial trial of Tkinter,    please write a simple calculator.\n",
    "\n",
    "<div style=\"float:left;\" ><img src=\"img/p3.png\" width=\"180\" height=\"200\" center=\"left\"></div>\n",
    "<div style=\"float:left;\" ><img src=\"img/p4.png\" width=\"180\" height=\"200\" center=\"right\" ></div>"
   ]
  },
  {
   "cell_type": "code",
   "execution_count": 8,
   "metadata": {},
   "outputs": [
    {
     "data": {
      "text/plain": [
       "<__main__.Change at 0x9c21d145f8>"
      ]
     },
     "execution_count": 8,
     "metadata": {},
     "output_type": "execute_result"
    }
   ],
   "source": [
    "from tkinter import *\n",
    "class Change:\n",
    "    def __init__(self):\n",
    "        window=Tk()\n",
    "        window.title(\"Button deal\")\n",
    " \n",
    " \n",
    "        s=''\n",
    "        frame1=Frame(window)\n",
    "        frame2=Frame(window)\n",
    "        frame2.pack()\n",
    "        frame1.pack()\n",
    "        button0=Button(frame1,text='0',command=self.pressb0)\n",
    "        button1=Button(frame1,text='1',command=self.pressb1)\n",
    "        button2=Button(frame1,text='2',command=self.pressb2)\n",
    "        button3=Button(frame1,text='3',command=self.pressb3)\n",
    "        button4=Button(frame1,text='4',command=self.pressb4)\n",
    "        button5=Button(frame1,text='5',command=self.pressb5)\n",
    "        button6=Button(frame1,text='6',command=self.pressb6)\n",
    "        button7=Button(frame1,text='7',command=self.pressb7)\n",
    "        button8=Button(frame1,text='8',command=self.pressb8)\n",
    "        button9=Button(frame1,text='9',command=self.pressb9)\n",
    "        buttona=Button(frame1,text='+',command=self.pressba)\n",
    "        buttonb=Button(frame1,text='-',command=self.pressbb)\n",
    "        buttonc=Button(frame1,text='*',command=self.pressbc)\n",
    "        buttond=Button(frame1,text='/',command=self.pressbd)\n",
    "        buttone=Button(frame1,text='c',command=self.pressbe)\n",
    "        buttonf=Button(frame1,text='=',command=self.pressbf)\n",
    "        self.label=Label(frame2,text=s)\n",
    " \n",
    "        self.label.pack()\n",
    "        #self.label.grid(row=1)\n",
    "        button0.grid(row=5,column=2)\n",
    "        button1.grid(row=2,column=1)\n",
    "        button2.grid(row=2,column=2)\n",
    "        button3.grid(row=2,column=3)\n",
    "        button4.grid(row=3,column=1)\n",
    "        button5.grid(row=3,column=2)\n",
    "        button6.grid(row=3,column=3)\n",
    "        button7.grid(row=4,column=1)\n",
    "        button8.grid(row=4,column=2)\n",
    "        button9.grid(row=4,column=3)\n",
    "        buttona.grid(row=2,column=4)\n",
    "        buttonb.grid(row=3,column=4)\n",
    "        buttonc.grid(row=4,column=4)\n",
    "        buttond.grid(row=5,column=1)\n",
    "        buttone.grid(row=5,column=3)\n",
    "        buttonf.grid(row=5,column=4)\n",
    "        \n",
    "        \n",
    "        \n",
    " \n",
    "        window.mainloop()\n",
    " \n",
    "    def pressb0(self):\n",
    "        self.label['text']+='0'\n",
    " \n",
    "    def pressb1(self):\n",
    "        self.label['text']+='1'\n",
    " \n",
    "    def pressb2(self):\n",
    "        self.label['text']+='2'\n",
    " \n",
    "    def pressb3(self):\n",
    "        self.label['text']+='3'\n",
    " \n",
    "    def pressb4(self):\n",
    "        self.label['text']+='4'\n",
    " \n",
    "    def pressb5(self):\n",
    "        self.label['text']+='5'\n",
    " \n",
    "    def pressb6(self):\n",
    "        self.label['text']+='6'\n",
    " \n",
    "    def pressb7(self):\n",
    "        self.label['text']+='7'\n",
    " \n",
    "    def pressb8(self):\n",
    "        self.label['text']+='8'\n",
    " \n",
    "    def pressb9(self):\n",
    "        self.label['text']+='9'\n",
    " \n",
    "    def pressba(self):\n",
    "        self.label['text']+='+'\n",
    " \n",
    "    def pressbb(self):\n",
    "        self.label['text']+='-'\n",
    " \n",
    "    def pressbc(self):\n",
    "        self.label['text']+='*'\n",
    " \n",
    "    def pressbd(self):\n",
    "        self.label['text']+='/'\n",
    " \n",
    "    def pressbe(self):#清除\n",
    "        self.label['text']=''\n",
    " \n",
    "    def pressbf(self):\n",
    "        self.label['text']=str(eval(self.label['text']))\n",
    " \n",
    "Change()\n"
   ]
  },
  {
   "cell_type": "markdown",
   "metadata": {},
   "source": [
    "5\\.Ball game:Python's pinball game, which can realize the game function of the keyboard control bottom baffle moving collision ball similar to table tennis game. \n",
    "\n",
    "<div style=\"float:left;\" ><img src=\"img/p5.png\" width=\"200\" height=\"200\" center=\"left\"></div>\n",
    "<div style=\"float:left;\" ><img src=\"img/p6.png\" width=\"200\" height=\"200\" center=\"right\" ></div>\n"
   ]
  },
  {
   "cell_type": "markdown",
   "metadata": {},
   "source": [
    "this is a step:how to install the matplotlib,you can reference this link:https://blog.csdn.net/not_give_up_/article/details/79058272\n",
    "1. Ball Class\n",
    "    draw is responsible for moving Ball\n",
    "    Collision detection, bounce, Ball detection of Paddle \n",
    "2. Paddle Class\n",
    "    draw is responsible for moving Paddle\n",
    "    Collision detection to determine whether or not to continue ,Monitor keyboard events\n",
    "3. main cycle\n",
    "    Drawing the Ball and Paddle"
   ]
  },
  {
   "cell_type": "code",
   "execution_count": null,
   "metadata": {},
   "outputs": [],
   "source": [
    "from tkinter import *\n",
    "import matplotlib\n",
    "matplotlib.use('Agg')\n",
    "import random\n",
    "import time\n",
    "class Ball:\n",
    "  def __init__(self, canvas, paddle, color):\n",
    "    self.canvas = canvas\n",
    "    self.paddle = paddle\n",
    "    self.id = canvas.create_oval(10, 10, 25, 25, fill=color)\n",
    "    self.canvas.move(self.id, 245, 100)\n",
    "    startx = [-3, -2, -1, 1, 2, 3]\n",
    "    random.shuffle(startx)\n",
    "    self.x = startx[0]\n",
    "    self.y = -3\n",
    "    self.canvas_height = self.canvas.winfo_height()\n",
    "    self.canvas_width = self.canvas.winfo_width()\n",
    "    self.hit_bottom = False\n",
    "  def draw(self):\n",
    "    self.canvas.move(self.id, self.x, self.y)\n",
    "    pos = self.canvas.coords(self.id)#top-left bottom-right\n",
    "    if (pos[1] <= 0 or self.hit_paddle(pos) == True):\n",
    "      self.y = -self.y\n",
    "    if (pos[0] <= 0 or pos[2] >= self.canvas_width):\n",
    "      self.x = -self.x\n",
    "    if (pos[3] >= self.canvas_height):\n",
    "      self.hit_bottom = True\n",
    "  def hit_paddle(self, pos):\n",
    "    paddle_pos = self.canvas.coords(self.paddle.id)\n",
    "    if (pos[2] >= paddle_pos[0] and pos[0] <= paddle_pos[2]):\n",
    "      if (pos[3] >= paddle_pos[1] and pos[3] <= paddle_pos[3]):\n",
    "        return True\n",
    "    return False\n",
    "class Paddle:\n",
    "  def __init__(self, canvas, color):\n",
    "    self.canvas = canvas\n",
    "    self.id = canvas.create_rectangle(0, 0, 100, 10, fill = color)\n",
    "    self.x = 0\n",
    "    self.canvas.move(self.id, 200, 300)\n",
    "    self.canvas_width = self.canvas.winfo_width()\n",
    "    self.canvas.bind_all(\"<Key-Left>\", self.turn_left)\n",
    "    self.canvas.bind_all(\"<Key-Right>\", self.turn_right)\n",
    "  def draw(self):\n",
    "    pos = self.canvas.coords(self.id)\n",
    "    if (pos[0] + self.x >= 0 and pos[2] + self.x <= self.canvas_width):\n",
    "      self.canvas.move(self.id, self.x, 0)\n",
    "    #self.x = 0\n",
    "  def turn_left(self, event):\n",
    "    self.x = -4\n",
    "  def turn_right(self, event):\n",
    "    self.x = 4\n",
    "tk = Tk()\n",
    "tk.title(\"Game\")\n",
    "tk.resizable(0, 0)#not resizable\n",
    "tk.wm_attributes(\"-topmost\", 1)#at top\n",
    "canvas = Canvas(tk, width = 500, height = 500, bd = 0, highlightthickness = 0)\n",
    "canvas.pack()\n",
    "tk.update()#init\n",
    "paddle = Paddle(canvas, 'blue')\n",
    "ball = Ball(canvas, paddle, 'red')\n",
    "while 1:\n",
    "    if (ball.hit_bottom == False):\n",
    "        ball.draw()\n",
    "        paddle.draw()\n",
    "        tk.update_idletasks()\n",
    "        tk.update()\n",
    "        time.sleep(0.01)\n",
    "\n",
    "\n",
    "\n"
   ]
  },
  {
   "cell_type": "code",
   "execution_count": null,
   "metadata": {},
   "outputs": [],
   "source": []
  },
  {
   "cell_type": "code",
   "execution_count": null,
   "metadata": {},
   "outputs": [],
   "source": []
  }
 ],
 "metadata": {
  "kernelspec": {
   "display_name": "Python 3",
   "language": "python",
   "name": "python3"
  },
  "language_info": {
   "codemirror_mode": {
    "name": "ipython",
    "version": 3
   },
   "file_extension": ".py",
   "mimetype": "text/x-python",
   "name": "python",
   "nbconvert_exporter": "python",
   "pygments_lexer": "ipython3",
   "version": "3.6.5"
  }
 },
 "nbformat": 4,
 "nbformat_minor": 2
}
